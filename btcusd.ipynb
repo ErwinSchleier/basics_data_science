{
 "cells": [
  {
   "cell_type": "code",
   "execution_count": 1,
   "metadata": {},
   "outputs": [],
   "source": [
    "import pandas as pd\n",
    "import matplotlib.pylot as plt"
   ]
  },
  {
   "cell_type": "code",
   "execution_count": 2,
   "metadata": {},
   "outputs": [],
   "source": [
    "data = pd.read_csv(\"./data/binance_btcusd.csv\", sep=\";\")"
   ]
  },
  {
   "cell_type": "code",
   "execution_count": 8,
   "metadata": {},
   "outputs": [
    {
     "output_type": "execute_result",
     "data": {
      "text/plain": "close_time      int64\nhigh          float64\nlow           float64\nclose         float64\nvolume        float64\ntrades          int64\nopen          float64\nopen_time       int64\nid              int64\ndtype: object"
     },
     "metadata": {},
     "execution_count": 8
    }
   ],
   "source": [
    "data.dtypes"
   ]
  },
  {
   "cell_type": "code",
   "execution_count": 10,
   "metadata": {},
   "outputs": [
    {
     "output_type": "execute_result",
     "data": {
      "text/plain": "      close_time     high      low    close    volume  trades     open  \\\n0  1577192996999  7362.00  7361.10  7361.10  0.423716       8  7362.00   \n1  1502942699999  4280.56  4261.48  4261.48  2.189060       9  4261.48   \n2  1502942999999  4261.48  4261.48  4261.48  0.000000       0  4261.48   \n3  1502943299999  4261.48  4261.48  4261.48  0.000000       0  4261.48   \n4  1502943599999  4264.88  4261.48  4261.48  0.484666       9  4261.48   \n\n       open_time      id  \n0     1577189700  107370  \n1  1502942400000  107371  \n2  1502942700000  107372  \n3  1502943000000  107373  \n4  1502943300000  107374  ",
      "text/html": "<div>\n<style scoped>\n    .dataframe tbody tr th:only-of-type {\n        vertical-align: middle;\n    }\n\n    .dataframe tbody tr th {\n        vertical-align: top;\n    }\n\n    .dataframe thead th {\n        text-align: right;\n    }\n</style>\n<table border=\"1\" class=\"dataframe\">\n  <thead>\n    <tr style=\"text-align: right;\">\n      <th></th>\n      <th>close_time</th>\n      <th>high</th>\n      <th>low</th>\n      <th>close</th>\n      <th>volume</th>\n      <th>trades</th>\n      <th>open</th>\n      <th>open_time</th>\n      <th>id</th>\n    </tr>\n  </thead>\n  <tbody>\n    <tr>\n      <td>0</td>\n      <td>1577192996999</td>\n      <td>7362.00</td>\n      <td>7361.10</td>\n      <td>7361.10</td>\n      <td>0.423716</td>\n      <td>8</td>\n      <td>7362.00</td>\n      <td>1577189700</td>\n      <td>107370</td>\n    </tr>\n    <tr>\n      <td>1</td>\n      <td>1502942699999</td>\n      <td>4280.56</td>\n      <td>4261.48</td>\n      <td>4261.48</td>\n      <td>2.189060</td>\n      <td>9</td>\n      <td>4261.48</td>\n      <td>1502942400000</td>\n      <td>107371</td>\n    </tr>\n    <tr>\n      <td>2</td>\n      <td>1502942999999</td>\n      <td>4261.48</td>\n      <td>4261.48</td>\n      <td>4261.48</td>\n      <td>0.000000</td>\n      <td>0</td>\n      <td>4261.48</td>\n      <td>1502942700000</td>\n      <td>107372</td>\n    </tr>\n    <tr>\n      <td>3</td>\n      <td>1502943299999</td>\n      <td>4261.48</td>\n      <td>4261.48</td>\n      <td>4261.48</td>\n      <td>0.000000</td>\n      <td>0</td>\n      <td>4261.48</td>\n      <td>1502943000000</td>\n      <td>107373</td>\n    </tr>\n    <tr>\n      <td>4</td>\n      <td>1502943599999</td>\n      <td>4264.88</td>\n      <td>4261.48</td>\n      <td>4261.48</td>\n      <td>0.484666</td>\n      <td>9</td>\n      <td>4261.48</td>\n      <td>1502943300000</td>\n      <td>107374</td>\n    </tr>\n  </tbody>\n</table>\n</div>"
     },
     "metadata": {},
     "execution_count": 10
    }
   ],
   "source": [
    "data.head()"
   ]
  },
  {
   "cell_type": "code",
   "execution_count": 12,
   "metadata": {},
   "outputs": [
    {
     "output_type": "execute_result",
     "data": {
      "text/plain": "(283376, 9)"
     },
     "metadata": {},
     "execution_count": 12
    }
   ],
   "source": [
    "data.shape"
   ]
  },
  {
   "cell_type": "code",
   "execution_count": 13,
   "metadata": {},
   "outputs": [
    {
     "output_type": "execute_result",
     "data": {
      "text/plain": "close_time    1.545716e+12\nhigh          7.319520e+03\nlow           7.305000e+03\nclose         7.312005e+03\nvolume        6.693125e+01\ntrades        5.750000e+02\nopen          7.312000e+03\nopen_time     1.545715e+12\nid            2.493405e+05\ndtype: float64"
     },
     "metadata": {},
     "execution_count": 13
    }
   ],
   "source": [
    "data.median()"
   ]
  },
  {
   "cell_type": "code",
   "execution_count": 17,
   "metadata": {},
   "outputs": [
    {
     "output_type": "execute_result",
     "data": {
      "text/plain": "         close_time           high            low          close  \\\ncount  2.833760e+05  283376.000000  283376.000000  283376.000000   \nmean   1.545687e+12    7544.631656    7518.857530    7531.974135   \nstd    2.465793e+10    2741.785793    2721.900183    2732.120719   \nmin    1.502943e+12    2878.000000    2817.000000    2820.000000   \n25%    1.524355e+12    5786.097500    5769.710000    5778.410000   \n50%    1.545716e+12    7319.520000    7305.000000    7312.005000   \n75%    1.567059e+12    9134.962500    9110.010000    9121.960000   \nmax    1.588352e+12   19798.700000   19729.000000   19762.000000   \n\n              volume         trades           open     open_time  \\\ncount  283376.000000  283376.000000  283376.000000  2.833760e+05   \nmean      104.052132     794.650673    7531.998698  1.545681e+12   \nstd       156.306044    1003.723277    2732.176502  2.482789e+10   \nmin         0.000000       0.000000    2830.000000  1.577190e+09   \n25%        21.372775     225.000000    5778.325000  1.524355e+12   \n50%        66.931250     575.000000    7312.000000  1.545715e+12   \n75%       126.443000    1008.000000    9121.962500  1.567058e+12   \nmax      4421.920000   29936.000000   19762.000000  1.588352e+12   \n\n                  id  \ncount  283376.000000  \nmean   251654.152141  \nstd     85841.323391  \nmin    107370.000000  \n25%    178354.750000  \n50%    249340.500000  \n75%    320326.250000  \nmax    427310.000000  ",
      "text/html": "<div>\n<style scoped>\n    .dataframe tbody tr th:only-of-type {\n        vertical-align: middle;\n    }\n\n    .dataframe tbody tr th {\n        vertical-align: top;\n    }\n\n    .dataframe thead th {\n        text-align: right;\n    }\n</style>\n<table border=\"1\" class=\"dataframe\">\n  <thead>\n    <tr style=\"text-align: right;\">\n      <th></th>\n      <th>close_time</th>\n      <th>high</th>\n      <th>low</th>\n      <th>close</th>\n      <th>volume</th>\n      <th>trades</th>\n      <th>open</th>\n      <th>open_time</th>\n      <th>id</th>\n    </tr>\n  </thead>\n  <tbody>\n    <tr>\n      <td>count</td>\n      <td>2.833760e+05</td>\n      <td>283376.000000</td>\n      <td>283376.000000</td>\n      <td>283376.000000</td>\n      <td>283376.000000</td>\n      <td>283376.000000</td>\n      <td>283376.000000</td>\n      <td>2.833760e+05</td>\n      <td>283376.000000</td>\n    </tr>\n    <tr>\n      <td>mean</td>\n      <td>1.545687e+12</td>\n      <td>7544.631656</td>\n      <td>7518.857530</td>\n      <td>7531.974135</td>\n      <td>104.052132</td>\n      <td>794.650673</td>\n      <td>7531.998698</td>\n      <td>1.545681e+12</td>\n      <td>251654.152141</td>\n    </tr>\n    <tr>\n      <td>std</td>\n      <td>2.465793e+10</td>\n      <td>2741.785793</td>\n      <td>2721.900183</td>\n      <td>2732.120719</td>\n      <td>156.306044</td>\n      <td>1003.723277</td>\n      <td>2732.176502</td>\n      <td>2.482789e+10</td>\n      <td>85841.323391</td>\n    </tr>\n    <tr>\n      <td>min</td>\n      <td>1.502943e+12</td>\n      <td>2878.000000</td>\n      <td>2817.000000</td>\n      <td>2820.000000</td>\n      <td>0.000000</td>\n      <td>0.000000</td>\n      <td>2830.000000</td>\n      <td>1.577190e+09</td>\n      <td>107370.000000</td>\n    </tr>\n    <tr>\n      <td>25%</td>\n      <td>1.524355e+12</td>\n      <td>5786.097500</td>\n      <td>5769.710000</td>\n      <td>5778.410000</td>\n      <td>21.372775</td>\n      <td>225.000000</td>\n      <td>5778.325000</td>\n      <td>1.524355e+12</td>\n      <td>178354.750000</td>\n    </tr>\n    <tr>\n      <td>50%</td>\n      <td>1.545716e+12</td>\n      <td>7319.520000</td>\n      <td>7305.000000</td>\n      <td>7312.005000</td>\n      <td>66.931250</td>\n      <td>575.000000</td>\n      <td>7312.000000</td>\n      <td>1.545715e+12</td>\n      <td>249340.500000</td>\n    </tr>\n    <tr>\n      <td>75%</td>\n      <td>1.567059e+12</td>\n      <td>9134.962500</td>\n      <td>9110.010000</td>\n      <td>9121.960000</td>\n      <td>126.443000</td>\n      <td>1008.000000</td>\n      <td>9121.962500</td>\n      <td>1.567058e+12</td>\n      <td>320326.250000</td>\n    </tr>\n    <tr>\n      <td>max</td>\n      <td>1.588352e+12</td>\n      <td>19798.700000</td>\n      <td>19729.000000</td>\n      <td>19762.000000</td>\n      <td>4421.920000</td>\n      <td>29936.000000</td>\n      <td>19762.000000</td>\n      <td>1.588352e+12</td>\n      <td>427310.000000</td>\n    </tr>\n  </tbody>\n</table>\n</div>"
     },
     "metadata": {},
     "execution_count": 17
    }
   ],
   "source": [
    "data.describe()"
   ]
  },
  {
   "cell_type": "code",
   "execution_count": null,
   "metadata": {},
   "outputs": [],
   "source": []
  }
 ],
 "metadata": {
  "language_info": {
   "codemirror_mode": {
    "name": "ipython",
    "version": 3
   },
   "file_extension": ".py",
   "mimetype": "text/x-python",
   "name": "python",
   "nbconvert_exporter": "python",
   "pygments_lexer": "ipython3",
   "version": "3.7.4-final"
  },
  "orig_nbformat": 2,
  "kernelspec": {
   "name": "python3",
   "display_name": "Python 3"
  }
 },
 "nbformat": 4,
 "nbformat_minor": 2
}